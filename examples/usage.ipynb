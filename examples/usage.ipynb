{
 "cells": [
  {
   "cell_type": "code",
   "execution_count": 10,
   "metadata": {},
   "outputs": [],
   "source": [
    "from ManDir import ManDir"
   ]
  },
  {
   "cell_type": "code",
   "execution_count": 11,
   "metadata": {},
   "outputs": [
    {
     "name": "stderr",
     "output_type": "stream",
     "text": [
      "\u001b[32m2024-12-11 00:38:25.832\u001b[0m | \u001b[1mINFO    \u001b[0m | \u001b[36mManDir.mandir\u001b[0m:\u001b[36m__init__\u001b[0m:\u001b[36m33\u001b[0m - \u001b[1msample_folder already exists.\u001b[0m\n"
     ]
    },
    {
     "data": {
      "text/plain": [
       "15"
      ]
     },
     "execution_count": 11,
     "metadata": {},
     "output_type": "execute_result"
    }
   ],
   "source": [
    "# Creates folder with default limit 15 (items)\n",
    "file_manager = ManDir(\"sample_folder\")\n",
    "file_manager.limit"
   ]
  },
  {
   "cell_type": "code",
   "execution_count": 12,
   "metadata": {},
   "outputs": [
    {
     "name": "stderr",
     "output_type": "stream",
     "text": [
      "\u001b[32m2024-12-11 00:38:26.124\u001b[0m | \u001b[1mINFO    \u001b[0m | \u001b[36mManDir.mandir\u001b[0m:\u001b[36m__init__\u001b[0m:\u001b[36m33\u001b[0m - \u001b[1msample_folder already exists.\u001b[0m\n"
     ]
    },
    {
     "data": {
      "text/plain": [
       "15"
      ]
     },
     "execution_count": 12,
     "metadata": {},
     "output_type": "execute_result"
    }
   ],
   "source": [
    "# Attempting to accquire existing dir - No error \n",
    "file_manager = ManDir(\"sample_folder\")\n",
    "file_manager.limit"
   ]
  },
  {
   "cell_type": "code",
   "execution_count": 13,
   "metadata": {},
   "outputs": [
    {
     "name": "stderr",
     "output_type": "stream",
     "text": [
      "\u001b[32m2024-12-11 00:38:26.565\u001b[0m | \u001b[1mINFO    \u001b[0m | \u001b[36mManDir.mandir\u001b[0m:\u001b[36m__init__\u001b[0m:\u001b[36m33\u001b[0m - \u001b[1msample_folder already exists.\u001b[0m\n"
     ]
    },
    {
     "data": {
      "text/plain": [
       "30"
      ]
     },
     "execution_count": 13,
     "metadata": {},
     "output_type": "execute_result"
    }
   ],
   "source": [
    "# Attempting to accquire existing dir with different limit - No error \n",
    "file_manager = ManDir(\"sample_folder\", 30)\n",
    "file_manager.limit"
   ]
  },
  {
   "cell_type": "code",
   "execution_count": 17,
   "metadata": {},
   "outputs": [
    {
     "name": "stderr",
     "output_type": "stream",
     "text": [
      "\u001b[32m2024-12-11 00:39:29.540\u001b[0m | \u001b[31m\u001b[1mERROR   \u001b[0m | \u001b[36mManDir.mandir\u001b[0m:\u001b[36msave\u001b[0m:\u001b[36m139\u001b[0m - \u001b[31m\u001b[1mNo content given to save\u001b[0m\n"
     ]
    },
    {
     "ename": "NoContentGiven",
     "evalue": "No Data Given to write",
     "output_type": "error",
     "traceback": [
      "\u001b[0;31m---------------------------------------------------------------------------\u001b[0m",
      "\u001b[0;31mNoContentGiven\u001b[0m                            Traceback (most recent call last)",
      "Cell \u001b[0;32mIn[17], line 2\u001b[0m\n\u001b[1;32m      1\u001b[0m \u001b[38;5;66;03m# Calling Save method without arg ---> NoContentGiven (custom [from ManDir import NoContentGiven])\u001b[39;00m\n\u001b[0;32m----> 2\u001b[0m \u001b[43mfile_manager\u001b[49m\u001b[38;5;241;43m.\u001b[39;49m\u001b[43msave\u001b[49m\u001b[43m(\u001b[49m\u001b[43m)\u001b[49m\n",
      "File \u001b[0;32m~/Desktop/ManDir/src/ManDir/mandir.py:140\u001b[0m, in \u001b[0;36mManDir.save\u001b[0;34m(self, txtfile, picklefile, csvfile, imgfile)\u001b[0m\n\u001b[1;32m    138\u001b[0m \u001b[38;5;28;01mif\u001b[39;00m _flag:\n\u001b[1;32m    139\u001b[0m     logger\u001b[38;5;241m.\u001b[39merror(\u001b[38;5;124m\"\u001b[39m\u001b[38;5;124mNo content given to save\u001b[39m\u001b[38;5;124m\"\u001b[39m)\n\u001b[0;32m--> 140\u001b[0m     \u001b[38;5;28;01mraise\u001b[39;00m NoContentGiven\n",
      "\u001b[0;31mNoContentGiven\u001b[0m: No Data Given to write"
     ]
    }
   ],
   "source": [
    "# Calling Save method without arg ---> NoContentGiven (custom [from ManDir import NoContentGiven])\n",
    "file_manager.save()"
   ]
  },
  {
   "cell_type": "code",
   "execution_count": 19,
   "metadata": {},
   "outputs": [
    {
     "name": "stderr",
     "output_type": "stream",
     "text": [
      "\u001b[32m2024-12-11 00:40:30.936\u001b[0m | \u001b[1mINFO    \u001b[0m | \u001b[36mManDir.mandir\u001b[0m:\u001b[36msave\u001b[0m:\u001b[36m78\u001b[0m - \u001b[1mTXT file sample_folder/Y2024_M12_D11_H00_M40_S30.txt saved.\u001b[0m\n"
     ]
    }
   ],
   "source": [
    "# Calling Save method with text file data ---> text file with current time-stamp created in manager dir with content specified\n",
    "# Arg = [<data>, <ext>]\n",
    "\n",
    "text = \"\"\"HelloWorld !\n",
    "This is a demo text\"\"\"\n",
    "\n",
    "file_manager.save(txtfile=[text, \".txt\"])"
   ]
  },
  {
   "cell_type": "code",
   "execution_count": 18,
   "metadata": {},
   "outputs": [
    {
     "name": "stderr",
     "output_type": "stream",
     "text": [
      "\u001b[32m2024-12-11 00:39:40.883\u001b[0m | \u001b[1mINFO    \u001b[0m | \u001b[36mManDir.mandir\u001b[0m:\u001b[36msave\u001b[0m:\u001b[36m78\u001b[0m - \u001b[1mTXT file sample_folder/Y2024_M12_D11_H00_M39_S40.txt saved.\u001b[0m\n",
      "\u001b[32m2024-12-11 00:39:40.888\u001b[0m | \u001b[1mINFO    \u001b[0m | \u001b[36mManDir.mandir\u001b[0m:\u001b[36msave\u001b[0m:\u001b[36m117\u001b[0m - \u001b[1mCSV file sample_folder/Y2024_M12_D11_H00_M39_S40.csv saved.\u001b[0m\n"
     ]
    }
   ],
   "source": [
    "# Calling Save method with multiple file data ---> multiple files with current time-stamp created in manager dir with contents specified\n",
    "\n",
    "text = \"\"\"HelloWorld !\n",
    "This is a demo text\"\"\"\n",
    "\n",
    "csv_data = [[1,2,3,4,5]] # For csv us only 2D array\n",
    "\n",
    "file_manager.save(txtfile=[text, \".txt\"],\n",
    "                  csvfile=[csv_data, \".csv\"])"
   ]
  },
  {
   "cell_type": "code",
   "execution_count": 62,
   "metadata": {},
   "outputs": [
    {
     "name": "stderr",
     "output_type": "stream",
     "text": [
      "\u001b[32m2024-12-11 00:00:38.407\u001b[0m | \u001b[1mINFO    \u001b[0m | \u001b[36mManDir.mandir\u001b[0m:\u001b[36m__init__\u001b[0m:\u001b[36m31\u001b[0m - \u001b[1mCreated sample_folder_2.\u001b[0m\n",
      "\u001b[32m2024-12-11 00:00:39.414\u001b[0m | \u001b[1mINFO    \u001b[0m | \u001b[36mManDir.mandir\u001b[0m:\u001b[36msave\u001b[0m:\u001b[36m66\u001b[0m - \u001b[1mTXT file sample_folder_2/Y2024_M12_D11_H00_M00_S39.txt saved.\u001b[0m\n",
      "\u001b[32m2024-12-11 00:00:40.418\u001b[0m | \u001b[1mINFO    \u001b[0m | \u001b[36mManDir.mandir\u001b[0m:\u001b[36msave\u001b[0m:\u001b[36m66\u001b[0m - \u001b[1mTXT file sample_folder_2/Y2024_M12_D11_H00_M00_S40.txt saved.\u001b[0m\n",
      "\u001b[32m2024-12-11 00:00:41.425\u001b[0m | \u001b[1mINFO    \u001b[0m | \u001b[36mManDir.mandir\u001b[0m:\u001b[36msave\u001b[0m:\u001b[36m66\u001b[0m - \u001b[1mTXT file sample_folder_2/Y2024_M12_D11_H00_M00_S41.txt saved.\u001b[0m\n",
      "\u001b[32m2024-12-11 00:00:42.429\u001b[0m | \u001b[1mINFO    \u001b[0m | \u001b[36mManDir.mandir\u001b[0m:\u001b[36msave\u001b[0m:\u001b[36m66\u001b[0m - \u001b[1mTXT file sample_folder_2/Y2024_M12_D11_H00_M00_S42.txt saved.\u001b[0m\n",
      "\u001b[32m2024-12-11 00:00:43.436\u001b[0m | \u001b[1mINFO    \u001b[0m | \u001b[36mManDir.mandir\u001b[0m:\u001b[36msave\u001b[0m:\u001b[36m66\u001b[0m - \u001b[1mTXT file sample_folder_2/Y2024_M12_D11_H00_M00_S43.txt saved.\u001b[0m\n",
      "\u001b[32m2024-12-11 00:00:44.441\u001b[0m | \u001b[1mINFO    \u001b[0m | \u001b[36mManDir.mandir\u001b[0m:\u001b[36msave\u001b[0m:\u001b[36m54\u001b[0m - \u001b[1mFolder overflow.\u001b[0m\n",
      "\u001b[32m2024-12-11 00:00:44.443\u001b[0m | \u001b[1mINFO    \u001b[0m | \u001b[36mManDir.mandir\u001b[0m:\u001b[36msave\u001b[0m:\u001b[36m58\u001b[0m - \u001b[1msample_folder_2/Y2024_M12_D11_H00_M00_S39.txt removed.\u001b[0m\n",
      "\u001b[32m2024-12-11 00:00:44.446\u001b[0m | \u001b[1mINFO    \u001b[0m | \u001b[36mManDir.mandir\u001b[0m:\u001b[36msave\u001b[0m:\u001b[36m66\u001b[0m - \u001b[1mTXT file sample_folder_2/Y2024_M12_D11_H00_M00_S44.txt saved.\u001b[0m\n",
      "\u001b[32m2024-12-11 00:00:45.452\u001b[0m | \u001b[1mINFO    \u001b[0m | \u001b[36mManDir.mandir\u001b[0m:\u001b[36msave\u001b[0m:\u001b[36m54\u001b[0m - \u001b[1mFolder overflow.\u001b[0m\n",
      "\u001b[32m2024-12-11 00:00:45.455\u001b[0m | \u001b[1mINFO    \u001b[0m | \u001b[36mManDir.mandir\u001b[0m:\u001b[36msave\u001b[0m:\u001b[36m58\u001b[0m - \u001b[1msample_folder_2/Y2024_M12_D11_H00_M00_S40.txt removed.\u001b[0m\n",
      "\u001b[32m2024-12-11 00:00:45.458\u001b[0m | \u001b[1mINFO    \u001b[0m | \u001b[36mManDir.mandir\u001b[0m:\u001b[36msave\u001b[0m:\u001b[36m66\u001b[0m - \u001b[1mTXT file sample_folder_2/Y2024_M12_D11_H00_M00_S45.txt saved.\u001b[0m\n",
      "\u001b[32m2024-12-11 00:00:46.462\u001b[0m | \u001b[1mINFO    \u001b[0m | \u001b[36mManDir.mandir\u001b[0m:\u001b[36msave\u001b[0m:\u001b[36m54\u001b[0m - \u001b[1mFolder overflow.\u001b[0m\n",
      "\u001b[32m2024-12-11 00:00:46.465\u001b[0m | \u001b[1mINFO    \u001b[0m | \u001b[36mManDir.mandir\u001b[0m:\u001b[36msave\u001b[0m:\u001b[36m58\u001b[0m - \u001b[1msample_folder_2/Y2024_M12_D11_H00_M00_S41.txt removed.\u001b[0m\n",
      "\u001b[32m2024-12-11 00:00:46.467\u001b[0m | \u001b[1mINFO    \u001b[0m | \u001b[36mManDir.mandir\u001b[0m:\u001b[36msave\u001b[0m:\u001b[36m66\u001b[0m - \u001b[1mTXT file sample_folder_2/Y2024_M12_D11_H00_M00_S46.txt saved.\u001b[0m\n",
      "\u001b[32m2024-12-11 00:00:47.473\u001b[0m | \u001b[1mINFO    \u001b[0m | \u001b[36mManDir.mandir\u001b[0m:\u001b[36msave\u001b[0m:\u001b[36m54\u001b[0m - \u001b[1mFolder overflow.\u001b[0m\n",
      "\u001b[32m2024-12-11 00:00:47.475\u001b[0m | \u001b[1mINFO    \u001b[0m | \u001b[36mManDir.mandir\u001b[0m:\u001b[36msave\u001b[0m:\u001b[36m58\u001b[0m - \u001b[1msample_folder_2/Y2024_M12_D11_H00_M00_S42.txt removed.\u001b[0m\n",
      "\u001b[32m2024-12-11 00:00:47.477\u001b[0m | \u001b[1mINFO    \u001b[0m | \u001b[36mManDir.mandir\u001b[0m:\u001b[36msave\u001b[0m:\u001b[36m66\u001b[0m - \u001b[1mTXT file sample_folder_2/Y2024_M12_D11_H00_M00_S47.txt saved.\u001b[0m\n",
      "\u001b[32m2024-12-11 00:00:48.483\u001b[0m | \u001b[1mINFO    \u001b[0m | \u001b[36mManDir.mandir\u001b[0m:\u001b[36msave\u001b[0m:\u001b[36m54\u001b[0m - \u001b[1mFolder overflow.\u001b[0m\n",
      "\u001b[32m2024-12-11 00:00:48.485\u001b[0m | \u001b[1mINFO    \u001b[0m | \u001b[36mManDir.mandir\u001b[0m:\u001b[36msave\u001b[0m:\u001b[36m58\u001b[0m - \u001b[1msample_folder_2/Y2024_M12_D11_H00_M00_S43.txt removed.\u001b[0m\n",
      "\u001b[32m2024-12-11 00:00:48.488\u001b[0m | \u001b[1mINFO    \u001b[0m | \u001b[36mManDir.mandir\u001b[0m:\u001b[36msave\u001b[0m:\u001b[36m66\u001b[0m - \u001b[1mTXT file sample_folder_2/Y2024_M12_D11_H00_M00_S48.txt saved.\u001b[0m\n"
     ]
    }
   ],
   "source": [
    "# Creating new-folder with multiple files ---> Older files gets deleted (FIFO)\n",
    "# <<< Open folder tab in Code-Explorer for better view >>>\n",
    "import time\n",
    "\n",
    "file_manager_2 = ManDir(\"sample_folder_2\",limit = 5)\n",
    "\n",
    "for i in range(10):\n",
    "    time.sleep(1) # To pause time since it needs atleast 1 second to take time stamp\n",
    "    file_manager_2.save(txtfile=[\"demo\",\".txt\"]) \n",
    "    # if 1 second is bigger latency u can use datetime & datetime.now().microsecond + \".txt\""
   ]
  },
  {
   "cell_type": "code",
   "execution_count": null,
   "metadata": {},
   "outputs": [],
   "source": []
  }
 ],
 "metadata": {
  "kernelspec": {
   "display_name": ".venv",
   "language": "python",
   "name": "python3"
  },
  "language_info": {
   "codemirror_mode": {
    "name": "ipython",
    "version": 3
   },
   "file_extension": ".py",
   "mimetype": "text/x-python",
   "name": "python",
   "nbconvert_exporter": "python",
   "pygments_lexer": "ipython3",
   "version": "3.10.15"
  }
 },
 "nbformat": 4,
 "nbformat_minor": 2
}
